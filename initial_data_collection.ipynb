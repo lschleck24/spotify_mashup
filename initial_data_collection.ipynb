{
 "cells": [
  {
   "cell_type": "code",
   "execution_count": null,
   "id": "e2e73d0e-16e7-45cd-ba71-7b281971e21d",
   "metadata": {},
   "outputs": [],
   "source": [
    "import spotipy\n",
    "from spotipy.oauth2 import SpotifyOAuth\n",
    "from spotipy.exceptions import SpotifyException\n",
    "import jwt\n",
    "\n",
    "\n",
    "#this is where the user would need to enter their own credentials\n",
    "sp_oauth = SpotifyOAuth(\n",
    "    client_id = '',\n",
    "    client_secret = '',\n",
    "    redirect_uri='http://localhost:8881/callback',\n",
    "    scope='playlist-read-private playlist-read-collaborative user-library-read'\n",
    ")\n",
    "\n",
    "sp = spotipy.Spotify(auth_manager=sp_oauth)\n",
    "\n",
    "# so this is a function to list all of the user's playlists\n",
    "#playlists that the user either created or followed\n",
    "def list_user_playlists():\n",
    "    playlist = sp.current_user_playlists()\n",
    "    #can also put playlist in playlist[\"item\"]\n",
    "    for playlist in playlist[\"items\"]:\n",
    "        print(f\"Playlist Name: {playlist['name']}, Playlist ID: {playlist['id']}\")\n",
    "\n",
    "list_user_playlists()\n"
   ]
  },
  {
   "cell_type": "code",
   "execution_count": null,
   "id": "8ec25462-f80d-47bd-b959-b55bba854317",
   "metadata": {},
   "outputs": [],
   "source": [
    "album = sp.current_user_saved_albums()\n",
    "for album_item in album[\"items\"]:\n",
    "    print(f\"album name {album_item['album']['name']}\")"
   ]
  },
  {
   "cell_type": "code",
   "execution_count": null,
   "id": "f72d334b-83a2-4187-8d6a-29a5b64ff3f5",
   "metadata": {},
   "outputs": [],
   "source": [
    "import pandas as pd\n",
    "playlist_id = '2HfFccisPxQfprhgIHM7XH'\n",
    "\n",
    "#get all the songs from the playlist_id\n",
    "results = sp.playlist_tracks(playlist_id)\n",
    "tracks = results['items']\n",
    "\n",
    "#this while extract the info in results\n",
    "#add to tracks\n",
    "while results['next']:\n",
    "    results = sp.next(results)\n",
    "    tracks.extend(results['items'])\n",
    "\n",
    "\n",
    "data = []\n",
    "#get info like name, id, playlist, duration\n",
    "for item in tracks:\n",
    "    track = item['track']\n",
    "    song_name = track['name']\n",
    "    song_id = track['id']\n",
    "    duration = track['duration_ms']\n",
    "    artists = [artist['name'] for artist in track['artists']]\n",
    "    release_date = sp.track(song_id)['album']['release_date']\n",
    "\n",
    "    \n",
    "    artist_id = track['artists'][0]['id']\n",
    "    artist_info = sp.artist(artist_id)\n",
    "    genres = artist_info['genres']\n",
    "\n",
    "    # Append the data\n",
    "    data.append({\n",
    "        'Song Name': song_name,\n",
    "        'Song ID': song_id,\n",
    "        'Artists': artists,\n",
    "        'Release Date': release_date,\n",
    "        'Genres': genres,\n",
    "        'Time (ms)':duration // 1000\n",
    "    })\n",
    "\n",
    "\n",
    "df = pd.DataFrame(data)\n",
    "\n",
    "\n",
    "print(df)\n",
    "df.to_csv('playlist_songs.csv', index=False)"
   ]
  },
  {
   "cell_type": "code",
   "execution_count": null,
   "id": "f3cb9801-823b-4527-b1bc-09dfa1f93ed5",
   "metadata": {},
   "outputs": [],
   "source": [
    "df.to_csv('playlist_songs4.csv', index=False)"
   ]
  }
 ],
 "metadata": {
  "kernelspec": {
   "display_name": "Python 3 (ipykernel)",
   "language": "python",
   "name": "python3"
  },
  "language_info": {
   "codemirror_mode": {
    "name": "ipython",
    "version": 3
   },
   "file_extension": ".py",
   "mimetype": "text/x-python",
   "name": "python",
   "nbconvert_exporter": "python",
   "pygments_lexer": "ipython3",
   "version": "3.11.0"
  }
 },
 "nbformat": 4,
 "nbformat_minor": 5
}
