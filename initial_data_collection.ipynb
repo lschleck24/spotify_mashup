{
 "cells": [
  {
   "cell_type": "code",
   "execution_count": null,
   "id": "e2e73d0e-16e7-45cd-ba71-7b281971e21d",
   "metadata": {},
   "outputs": [],
   "source": [
    "import spotipy\n",
    "from spotipy.oauth2 import SpotifyOAuth\n",
    "from spotipy.exceptions import SpotifyException\n",
    "import jwt\n",
    "\n",
    "# Initialize SpotifyOAuth with your credentials\n",
    "\n",
    "#this is where the user would need to enter their own credentials\n",
    "sp_oauth = SpotifyOAuth(\n",
    "    client_id = '73ab5349d4284b759c07843e5d202eff',\n",
    "    client_secret = '6f02411e145b441dac805c627a2d90d4',\n",
    "    redirect_uri='http://localhost:8881/callback',\n",
    "    scope='playlist-read-private playlist-read-collaborative user-library-read'\n",
    ")\n",
    "\n",
    "sp = spotipy.Spotify(auth_manager=sp_oauth)\n",
    "\n",
    "# so this is a function to list all of the user's playlists\n",
    "#playlists that the user either created or followed\n",
    "def list_user_playlists():\n",
    "    playlist = sp.current_user_playlists()\n",
    "    #can also put playlist in playlist[\"item\"]\n",
    "    for playlist in playlist[\"items\"]:\n",
    "        print(f\"Playlist Name: {playlist['name']}, Playlist ID: {playlist['id']}\")\n",
    "\n",
    "list_user_playlists()\n"
   ]
  }
 ],
 "metadata": {
  "kernelspec": {
   "display_name": "Python 3 (ipykernel)",
   "language": "python",
   "name": "python3"
  },
  "language_info": {
   "codemirror_mode": {
    "name": "ipython",
    "version": 3
   },
   "file_extension": ".py",
   "mimetype": "text/x-python",
   "name": "python",
   "nbconvert_exporter": "python",
   "pygments_lexer": "ipython3",
   "version": "3.11.0"
  }
 },
 "nbformat": 4,
 "nbformat_minor": 5
}
