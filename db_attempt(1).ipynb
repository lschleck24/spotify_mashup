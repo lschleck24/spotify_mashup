{
 "cells": [
  {
   "cell_type": "code",
   "execution_count": 12,
   "id": "b4f91edb-26d3-4f32-890f-e40ba21cfa04",
   "metadata": {},
   "outputs": [],
   "source": [
    "import sqlite3\n",
    "import base_db\n",
    "import pandas as pd\n",
    "df_songs = pd.read_csv(\"playlist_songs.csv\")"
   ]
  },
  {
   "cell_type": "code",
   "execution_count": 4,
   "id": "bfdf92cd-af66-4707-a9c1-8e0c29534101",
   "metadata": {},
   "outputs": [],
   "source": [
    "conn = sqlite3.connect('data/db.sqlite')\n",
    "curs = conn.cursor()"
   ]
  },
  {
   "cell_type": "code",
   "execution_count": 18,
   "id": "7f2aa2f2-e5db-48a8-9c12-9b06c91bd5aa",
   "metadata": {},
   "outputs": [
    {
     "data": {
      "text/plain": [
       "<sqlite3.Cursor at 0x1209e9940>"
      ]
     },
     "execution_count": 18,
     "metadata": {},
     "output_type": "execute_result"
    }
   ],
   "source": [
    "curs.execute(\"DROP TABLE IF EXISTS tSong;\")\n",
    "\n",
    "sql = \"\"\"\n",
    "CREATE TABLE tSong ( \n",
    "    song_id TEXT PRIMARY KEY,\n",
    "    song_name TEXT NOT NULL,\n",
    "    duration TEXT NOT NULL\n",
    ")\n",
    ";\"\"\"\n",
    "curs.execute(sql)"
   ]
  },
  {
   "cell_type": "code",
   "execution_count": 19,
   "id": "e7428cd1-0c4f-41d9-8cb5-e08abd49c3e2",
   "metadata": {},
   "outputs": [],
   "source": [
    "for i, row in enumerate(df_songs.to_dict(orient=\"records\")):\n",
    "    song_name = row[\"Song Name\"]\n",
    "    song_id = row[\"Song ID\"]\n",
    "    duration = row[\"Time (ms)\"]\n",
    "    #print(song_name)\n",
    "    #print(song_id)\n",
    "    #print(duration)\n",
    "    \n",
    "    sql = \"\"\"\n",
    "        INSERT INTO tSong(song_id,song_name,duration)\n",
    "        VALUES (:song_id,:song_name,:duration)\n",
    "    ;\"\"\"\n",
    "    params = {\"song_id\":song_id,\"song_name\":song_name,\"duration\":duration}\n",
    "    curs.execute(sql,params)\n",
    "    conn.commit()"
   ]
  },
  {
   "cell_type": "code",
   "execution_count": null,
   "id": "7368f548-2f69-4cb7-a8fa-d0e634e9f263",
   "metadata": {},
   "outputs": [],
   "source": []
  }
 ],
 "metadata": {
  "kernelspec": {
   "display_name": "Python 3 (ipykernel)",
   "language": "python",
   "name": "python3"
  },
  "language_info": {
   "codemirror_mode": {
    "name": "ipython",
    "version": 3
   },
   "file_extension": ".py",
   "mimetype": "text/x-python",
   "name": "python",
   "nbconvert_exporter": "python",
   "pygments_lexer": "ipython3",
   "version": "3.11.0"
  }
 },
 "nbformat": 4,
 "nbformat_minor": 5
}
